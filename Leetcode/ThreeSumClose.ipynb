{
 "cells": [
  {
   "cell_type": "code",
   "execution_count": 13,
   "id": "1f3f4e44-a304-4fd9-8553-0a3845f4c3b3",
   "metadata": {},
   "outputs": [
    {
     "name": "stdout",
     "output_type": "stream",
     "text": [
      "18\n"
     ]
    }
   ],
   "source": [
    "class Solution(object):\n",
    "    def threeSumClosest(self, nums, target):\n",
    "        n = len(nums)\n",
    "        mins = None\n",
    "        if n < 3:\n",
    "            return None\n",
    "\n",
    "        close = sum(nums[:3])\n",
    "        nums.sort()\n",
    "        for i in range(n-2):\n",
    "            j = i+1\n",
    "            k = n-1\n",
    "            while j<k:\n",
    "                    total = nums[i]+nums[j]+nums[k]\n",
    "                    if total == target:\n",
    "                        return target\n",
    "                    if abs(total-target) < abs(close-target):\n",
    "                        close = total\n",
    "                    if total < target:\n",
    "                        j+=1\n",
    "                    else:\n",
    "                        k-=1\n",
    "                    \n",
    "        return close\n",
    "\n",
    "s1 = Solution()\n",
    "print(s1.threeSumClosest([2,4,12,56], 17))"
   ]
  },
  {
   "cell_type": "code",
   "execution_count": null,
   "id": "6b754846-51f9-466a-9062-ba0338172052",
   "metadata": {},
   "outputs": [],
   "source": []
  }
 ],
 "metadata": {
  "kernelspec": {
   "display_name": "Python3 (DeepCode)",
   "language": "python",
   "name": "deepcode"
  },
  "language_info": {
   "codemirror_mode": {
    "name": "ipython",
    "version": 3
   },
   "file_extension": ".py",
   "mimetype": "text/x-python",
   "name": "python",
   "nbconvert_exporter": "python",
   "pygments_lexer": "ipython3",
   "version": "3.13.2"
  }
 },
 "nbformat": 4,
 "nbformat_minor": 5
}
