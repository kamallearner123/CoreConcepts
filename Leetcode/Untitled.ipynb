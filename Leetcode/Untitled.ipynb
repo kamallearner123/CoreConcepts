{
 "cells": [
  {
   "cell_type": "code",
   "execution_count": null,
   "id": "6abe792b-6ac4-49fd-a646-59053a62e516",
   "metadata": {},
   "outputs": [],
   "source": [
    "class Solution(object):\n",
    "    def get_neighbors(self, i, j):\n",
    "        ns = []\n",
    "        if i!=0 and self.mat[i-1,j]==0:\n",
    "            ns.append((i-1, j))\n",
    "        if j!=0 and self.mat[i,j-1]==0:\n",
    "        \n",
    "    def updateMatrix(self, mat):\n",
    "        self.m = len(mat)\n",
    "        self.n = len(mat[0])\n",
    "        self.mat = mat\n",
    "\n",
    "        graph = {}\n",
    "        for i in range(self.m):\n",
    "            for j in range(self.n):\n",
    "                graph[(i,j)] = get_neighbors(i, j)\n",
    "                print(graph[(i,j)])\n",
    "                \n",
    "\n",
    "s1 = Solution()\n",
    "s1.updateMatrix( [[0,0,0],[0,1,0],[0,0,0]])\n"
   ]
  }
 ],
 "metadata": {
  "kernelspec": {
   "display_name": "Python3 (DeepCode)",
   "language": "python",
   "name": "deepcode"
  },
  "language_info": {
   "codemirror_mode": {
    "name": "ipython",
    "version": 3
   },
   "file_extension": ".py",
   "mimetype": "text/x-python",
   "name": "python",
   "nbconvert_exporter": "python",
   "pygments_lexer": "ipython3",
   "version": "3.13.2"
  }
 },
 "nbformat": 4,
 "nbformat_minor": 5
}
