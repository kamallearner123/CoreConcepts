{
 "cells": [
  {
   "cell_type": "code",
   "execution_count": 11,
   "id": "23237ab7-d131-4187-a6c5-0a65fac062e7",
   "metadata": {},
   "outputs": [
    {
     "name": "stdout",
     "output_type": "stream",
     "text": [
      "[['eat', 'tea', 'ate'], ['tan', 'nat'], ['bat']]\n",
      "[['']]\n"
     ]
    },
    {
     "data": {
      "text/plain": [
       "[['']]"
      ]
     },
     "execution_count": 11,
     "metadata": {},
     "output_type": "execute_result"
    }
   ],
   "source": [
    "class Solution(object):\n",
    "    def groupAnagrams(self, strs):\n",
    "        ordered = list(map(lambda x: \"\".join(sorted(list(x))), strs))\n",
    "        s1 = set(ordered)\n",
    "        d1 = {}\n",
    "        result = []\n",
    "        for element in s1:\n",
    "            entry = []\n",
    "            for i in range(len(ordered)):\n",
    "                if element == ordered[i]:\n",
    "                    entry.append(strs[i])\n",
    "            result.append(entry.copy())\n",
    "            entry.clear()         \n",
    "        return result\n",
    "\n",
    "\n",
    "s1 = Solution()\n",
    "s1.groupAnagrams([\"eat\",\"tea\",\"tan\",\"ate\",\"nat\",\"bat\"])\n",
    "s1.groupAnagrams([\"\"])"
   ]
  },
  {
   "cell_type": "code",
   "execution_count": null,
   "id": "c26586a3-ae7d-499b-8c27-00b3c2bc5ac3",
   "metadata": {},
   "outputs": [],
   "source": []
  }
 ],
 "metadata": {
  "kernelspec": {
   "display_name": "Python3 (DeepCode)",
   "language": "python",
   "name": "deepcode"
  },
  "language_info": {
   "codemirror_mode": {
    "name": "ipython",
    "version": 3
   },
   "file_extension": ".py",
   "mimetype": "text/x-python",
   "name": "python",
   "nbconvert_exporter": "python",
   "pygments_lexer": "ipython3",
   "version": "3.13.2"
  }
 },
 "nbformat": 4,
 "nbformat_minor": 5
}
