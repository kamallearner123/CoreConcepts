{
 "cells": [
  {
   "cell_type": "code",
   "execution_count": null,
   "id": "806395fc-c3c7-4fa4-8382-67183599f63b",
   "metadata": {},
   "outputs": [],
   "source": [
    "# Input and output\n",
    "# Loops\n",
    "# If else\n",
    "# Function"
   ]
  },
  {
   "cell_type": "code",
   "execution_count": 10,
   "id": "df94b549-5df6-420c-bcca-ed2fe403c084",
   "metadata": {},
   "outputs": [
    {
     "ename": "IndentationError",
     "evalue": "unexpected indent (3843420470.py, line 8)",
     "output_type": "error",
     "traceback": [
      "\u001b[0;36m  Cell \u001b[0;32mIn[10], line 8\u001b[0;36m\u001b[0m\n\u001b[0;31m    age = int(age)\u001b[0m\n\u001b[0m    ^\u001b[0m\n\u001b[0;31mIndentationError\u001b[0m\u001b[0;31m:\u001b[0m unexpected indent\n"
     ]
    }
   ],
   "source": [
    "import sys\n",
    "count = 3\n",
    "while count != 0:\n",
    "    age = input(\"Enter your age\") \n",
    "    \n",
    "    if age.isdigit()==True:\n",
    "        print(\"If condition satisfied\")\n",
    "        age = int(age)\n",
    "        break \n",
    "    else:\n",
    "        print(\"Entered value is not a digit: Try again!!!\")\n",
    "    count = count - 1\n",
    "\n",
    "\n",
    "if count == 0:\n",
    "    sys.exit(0) # exiting the program\n",
    "\n",
    "print(\"Age = \", age)\n"
   ]
  },
  {
   "cell_type": "code",
   "execution_count": 11,
   "id": "48939827-20ea-4638-8047-2c5cdfc0470c",
   "metadata": {},
   "outputs": [
    {
     "name": "stdout",
     "output_type": "stream",
     "text": [
      "Name : {Name}\n",
      "Age : {Age}\n",
      "Address : {Address}\n"
     ]
    }
   ],
   "source": [
    "Name = \"Ram\"\n",
    "Age = 23\n",
    "Address = \"Bangalore\"\n",
    "\n",
    "output = f\"Name : {Name}\\nAge : {Age}\\nAddress : {Address}\"\n",
    "print(output)"
   ]
  },
  {
   "cell_type": "code",
   "execution_count": 17,
   "id": "cc8e05da-389d-4e03-824c-32ed4d255e2b",
   "metadata": {},
   "outputs": [
    {
     "name": "stdout",
     "output_type": "stream",
     "text": [
      "Name : Ram       \n",
      "Age :23        \n",
      "Address : Bangalore           \n",
      "CGPA :  7.12\n"
     ]
    }
   ],
   "source": [
    "Name = \"Ram\" # String\n",
    "Age = 23 # integer\n",
    "Address = \"Bangalore\" # string\n",
    "cgpa = 7.12345\n",
    "\n",
    "print(\"Name : %-10s\\nAge :%-10d\\nAddress : %-20s\\nCGPA : %5.2f\"%(Name, Age, Address, cgpa))\n"
   ]
  },
  {
   "cell_type": "code",
   "execution_count": 21,
   "id": "babeaeef-ec04-4277-abb4-2436671784ea",
   "metadata": {},
   "outputs": [
    {
     "name": "stdout",
     "output_type": "stream",
     "text": [
      "27 is divisible by 3\n"
     ]
    }
   ],
   "source": [
    "# For loop\n",
    "num = 27\n",
    "for i in range(2, num):#2,3..17.46\n",
    "    if num%i == 0:\n",
    "        print(f\"{num} is divisible by {i}\")\n",
    "        break\n",
    "else: # Will get executed if entire for loop executed successfully\n",
    "    print(f\"Yes... {num} is a prime number\")\n",
    "    \n"
   ]
  },
  {
   "cell_type": "code",
   "execution_count": 26,
   "id": "d4198a3e-5d29-46a6-9ba8-64a9215a9822",
   "metadata": {},
   "outputs": [
    {
     "name": "stdout",
     "output_type": "stream",
     "text": [
      "0\n",
      "5\n",
      "10\n",
      "15\n",
      "20\n",
      "25\n",
      "30\n",
      "35\n",
      "40\n",
      "45\n",
      "50\n",
      "55\n",
      "60\n",
      "65\n",
      "70\n",
      "75\n",
      "80\n",
      "85\n",
      "90\n",
      "95\n"
     ]
    }
   ],
   "source": [
    "# For loop\n",
    "num = 100\n",
    "# for (int i = 0; i<100; i=i+5)\n",
    "for i in range(0,num, 5):#2,3..17.46 # range(start,end, increment=1)\n",
    "    print(i)"
   ]
  },
  {
   "cell_type": "code",
   "execution_count": 27,
   "id": "1951eb84-ebfc-4b5a-9389-264612409726",
   "metadata": {},
   "outputs": [
    {
     "name": "stdout",
     "output_type": "stream",
     "text": [
      "Yes... 3 is a prime number\n",
      "4 is divisible by 2\n",
      "10 is divisible by 2\n",
      "15 is divisible by 3\n",
      "100 is divisible by 2\n",
      "Yes... 43 is a prime number\n"
     ]
    }
   ],
   "source": [
    "list1 = [3,4,10,15,100,43]\n",
    "for num in list1:\n",
    "    for i in range(2, num):#2,3..17.46\n",
    "        if num%i == 0:\n",
    "            print(f\"{num} is divisible by {i}\")\n",
    "            break\n",
    "    else: # Will get executed if entire for loop executed successfully\n",
    "        print(f\"Yes... {num} is a prime number\")\n",
    "\n"
   ]
  },
  {
   "cell_type": "code",
   "execution_count": 29,
   "id": "7bf23d43-2a5c-48fb-8192-562bfe6429d3",
   "metadata": {},
   "outputs": [
    {
     "name": "stdin",
     "output_type": "stream",
     "text": [
      "Enter number 23\n"
     ]
    },
    {
     "name": "stdout",
     "output_type": "stream",
     "text": [
      "Yes... 23 is a prime number\n"
     ]
    }
   ],
   "source": [
    "# How to define a function\n",
    "# def -> key word\n",
    "# checcheck_prime_number --> function name\n",
    "# num -> argument\n",
    "def check_prime_number(num):\n",
    "    for i in range(2, num):#2,3..17.46\n",
    "        if num%i == 0:\n",
    "            print(f\"{num} is divisible by {i}\")\n",
    "            break\n",
    "    else: # Will get executed if entire for loop executed successfully\n",
    "        print(f\"Yes... {num} is a prime number\")\n",
    "\n",
    "check_prime_number(10)"
   ]
  },
  {
   "cell_type": "code",
   "execution_count": null,
   "id": "2d9be445-7fae-43ec-8ed4-e3c9785b4cf6",
   "metadata": {},
   "outputs": [],
   "source": []
  }
 ],
 "metadata": {
  "kernelspec": {
   "display_name": "Python (playground)",
   "language": "python",
   "name": "myenv"
  },
  "language_info": {
   "codemirror_mode": {
    "name": "ipython",
    "version": 3
   },
   "file_extension": ".py",
   "mimetype": "text/x-python",
   "name": "python",
   "nbconvert_exporter": "python",
   "pygments_lexer": "ipython3",
   "version": "3.12.9"
  }
 },
 "nbformat": 4,
 "nbformat_minor": 5
}
