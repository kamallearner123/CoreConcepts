{
 "cells": [
  {
   "cell_type": "code",
   "execution_count": null,
   "id": "7ff7af10-811d-4d97-8017-abc02a85a584",
   "metadata": {},
   "outputs": [],
   "source": []
  }
 ],
 "metadata": {
  "kernelspec": {
   "display_name": "",
   "name": ""
  },
  "language_info": {
   "name": ""
  }
 },
 "nbformat": 4,
 "nbformat_minor": 5
}
