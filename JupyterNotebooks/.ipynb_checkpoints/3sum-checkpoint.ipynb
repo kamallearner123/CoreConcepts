{
 "cells": [
  {
   "cell_type": "code",
   "execution_count": 1,
   "id": "b670ee7b-0c45-4878-ace6-3e2b260bcac9",
   "metadata": {},
   "outputs": [],
   "source": [
    "Question = '''\n",
    "Given an integer array nums, return all the triplets [nums[i], nums[j], nums[k]] such that i != j, i != k, and j != k, and nums[i] + nums[j] + nums[k] == 0.\n",
    "\n",
    "Notice that the solution set must not contain duplicate triplets.\n",
    "\n",
    " \n",
    "\n",
    "Example 1:\n",
    "\n",
    "Input: nums = [-1,0,1,2,-1,-4]\n",
    "Output: [[-1,-1,2],[-1,0,1]]\n",
    "Explanation: \n",
    "nums[0] + nums[1] + nums[2] = (-1) + 0 + 1 = 0.\n",
    "nums[1] + nums[2] + nums[4] = 0 + 1 + (-1) = 0.\n",
    "nums[0] + nums[3] + nums[4] = (-1) + 2 + (-1) = 0.\n",
    "The distinct triplets are [-1,0,1] and [-1,-1,2].\n",
    "Notice that the order of the output and the order of the triplets does not matter.\n",
    "Example 2:\n",
    "\n",
    "Input: nums = [0,1,1]\n",
    "Output: []\n",
    "Explanation: The only possible triplet does not sum up to 0.\n",
    "Example 3:\n",
    "\n",
    "Input: nums = [0,0,0]\n",
    "Output: [[0,0,0]]\n",
    "Explanation: The only possible triplet sums up to 0.\n",
    " \n",
    "\n",
    "Constraints:\n",
    "\n",
    "3 <= nums.length <= 3000\n",
    "-105 <= nums[i] <= 105\n",
    "'''\n",
    "\n"
   ]
  },
  {
   "cell_type": "code",
   "execution_count": 2,
   "id": "c283c6c0-a178-4fdb-aa66-3997e1aab2db",
   "metadata": {},
   "outputs": [
    {
     "name": "stdout",
     "output_type": "stream",
     "text": [
      "\n",
      "Given an integer array nums, return all the triplets [nums[i], nums[j], nums[k]] such that i != j, i != k, and j != k, and nums[i] + nums[j] + nums[k] == 0.\n",
      "\n",
      "Notice that the solution set must not contain duplicate triplets.\n",
      "\n",
      " \n",
      "\n",
      "Example 1:\n",
      "\n",
      "Input: nums = [-1,0,1,2,-1,-4]\n",
      "Output: [[-1,-1,2],[-1,0,1]]\n",
      "Explanation: \n",
      "nums[0] + nums[1] + nums[2] = (-1) + 0 + 1 = 0.\n",
      "nums[1] + nums[2] + nums[4] = 0 + 1 + (-1) = 0.\n",
      "nums[0] + nums[3] + nums[4] = (-1) + 2 + (-1) = 0.\n",
      "The distinct triplets are [-1,0,1] and [-1,-1,2].\n",
      "Notice that the order of the output and the order of the triplets does not matter.\n",
      "Example 2:\n",
      "\n",
      "Input: nums = [0,1,1]\n",
      "Output: []\n",
      "Explanation: The only possible triplet does not sum up to 0.\n",
      "Example 3:\n",
      "\n",
      "Input: nums = [0,0,0]\n",
      "Output: [[0,0,0]]\n",
      "Explanation: The only possible triplet sums up to 0.\n",
      " \n",
      "\n",
      "Constraints:\n",
      "\n",
      "3 <= nums.length <= 3000\n",
      "-105 <= nums[i] <= 105\n",
      "\n"
     ]
    }
   ],
   "source": [
    "print(Question)"
   ]
  },
  {
   "cell_type": "code",
   "execution_count": 5,
   "id": "9a859ad7-ec26-46e9-81b5-138faaf2b3ce",
   "metadata": {},
   "outputs": [
    {
     "name": "stdout",
     "output_type": "stream",
     "text": [
      "['a', 'b', 'c', 'a', 'd']\n",
      "{1, 2, 3}\n"
     ]
    },
    {
     "ename": "TypeError",
     "evalue": "'tuple' object does not support item assignment",
     "output_type": "error",
     "traceback": [
      "\u001b[0;31m---------------------------------------------------------------------------\u001b[0m",
      "\u001b[0;31mTypeError\u001b[0m                                 Traceback (most recent call last)",
      "Cell \u001b[0;32mIn[5], line 10\u001b[0m\n\u001b[1;32m      6\u001b[0m \u001b[38;5;28mprint\u001b[39m(s2)\n\u001b[1;32m      9\u001b[0m t1 \u001b[38;5;241m=\u001b[39m (\u001b[38;5;241m1\u001b[39m,\u001b[38;5;241m2\u001b[39m,\u001b[38;5;241m3\u001b[39m)\n\u001b[0;32m---> 10\u001b[0m t1[\u001b[38;5;241m0\u001b[39m] \u001b[38;5;241m=\u001b[39m \u001b[38;5;241m10\u001b[39m\n",
      "\u001b[0;31mTypeError\u001b[0m: 'tuple' object does not support item assignment"
     ]
    }
   ],
   "source": [
    "\n",
    "\n",
    "l1 = [\"a\", \"b\", \"c\", \"a\"] # list / vector\n",
    "l1.append(\"d\")\n",
    "print(l1) \n",
    "\n",
    "s2 = {1,2,3,1,2,3} # set / set\n",
    "print(s2)\n",
    "\n",
    "\n",
    "t1 = (1,2,3) # const char * s = \"hello\";\n",
    "t1[0] = 10\n",
    "\n",
    "\n"
   ]
  },
  {
   "cell_type": "code",
   "execution_count": 6,
   "id": "38f1d8ec-f680-494c-9c80-f23834bc705f",
   "metadata": {},
   "outputs": [
    {
     "name": "stdout",
     "output_type": "stream",
     "text": [
      "[-4, -1, -1, 0, 1, 2]\n",
      "0, 1, 5\n",
      "0, 2, 5\n",
      "0, 3, 5\n",
      "0, 4, 5\n",
      "1, 2, 5\n",
      "Found 1,2,5\n",
      "2, 3, 5\n",
      "2, 3, 4\n",
      "Found 2,3,4\n",
      "3, 4, 5\n"
     ]
    }
   ],
   "source": [
    "def threeSome(list1):\n",
    "    list1.sort()\n",
    "    print(list1)\n",
    "    length = len(list1)\n",
    "    for i in range(length-2):\n",
    "        balance = (-1)*list1[i]\n",
    "        s,e = i+1, length-1\n",
    "        while s<e:\n",
    "            print(f\"{i}, {s}, {e}\")\n",
    "            val = list1[e]+list1[s]\n",
    "            if val == balance:\n",
    "                print(f\"Found {i},{s},{e}\")\n",
    "                break\n",
    "            if val < balance:\n",
    "                s += 1\n",
    "            else:\n",
    "                e -= 1\n",
    "            \n",
    "threeSome([-1,0,1,2,-1,-4])"
   ]
  },
  {
   "cell_type": "code",
   "execution_count": 9,
   "id": "e4d44c47-1a4d-4b8d-8b84-493efb37f67f",
   "metadata": {},
   "outputs": [
    {
     "name": "stdout",
     "output_type": "stream",
     "text": [
      "{'Name': 'A', 'Neighbours': ({'Name': 'B', 'Neighbours': ({...}, {'Name': 'C'}, {'Name': 'D'})}, {'Name': 'C'})}\n"
     ]
    }
   ],
   "source": [
    "\n",
    "\n",
    "\n",
    "# A, B, C, D\n",
    "\n",
    "A = {\"Name\":\"A\"}\n",
    "B = {\"Name\":\"B\"}\n",
    "C = {\"Name\":\"C\"}\n",
    "D = {\"Name\":\"D\"}\n",
    "\n",
    "\n",
    "A[\"Neighbours\"] = (B, C)\n",
    "B[\"Neighbours\"] = (A,C,D)\n",
    "print(A)\n",
    "\n",
    "\n",
    "\n"
   ]
  },
  {
   "cell_type": "code",
   "execution_count": null,
   "id": "055dd660-daf0-4e63-9285-ed8a7972e06f",
   "metadata": {},
   "outputs": [],
   "source": [
    "import collections\n",
    "nums = list(range(0,255))\n",
    "r = 4\n",
    "#Sequece\n",
    "0.0.0.0\n",
    "0.0.0.1\n"
   ]
  },
  {
   "cell_type": "code",
   "execution_count": 10,
   "id": "39a12805-ab17-4bc2-b716-5d265888f94f",
   "metadata": {},
   "outputs": [
    {
     "name": "stdout",
     "output_type": "stream",
     "text": [
      "[-9, 0, 6, 9, 34]\n"
     ]
    }
   ],
   "source": [
    "l1 = [34,6,0,-9,9]\n",
    "l1.sort()\n",
    "print(l1)"
   ]
  },
  {
   "cell_type": "code",
   "execution_count": 15,
   "id": "aebe8af6-244e-4a25-95a1-ab38ee829c11",
   "metadata": {},
   "outputs": [
    {
     "name": "stdout",
     "output_type": "stream",
     "text": [
      "SortedList([-1, 0])\n"
     ]
    }
   ],
   "source": [
    "from sortedcontainers import SortedList\n",
    "\n",
    "s1 = SortedList()\n",
    "s1.add(0) # O(log n)\n",
    "s1.add(-1) \n",
    "print(s1)"
   ]
  },
  {
   "cell_type": "code",
   "execution_count": 17,
   "id": "dc7fe85c-e107-408b-b63b-03ae1432b329",
   "metadata": {},
   "outputs": [
    {
     "name": "stdout",
     "output_type": "stream",
     "text": [
      "[2, 3, 4]\n"
     ]
    }
   ],
   "source": [
    "list1 = [1,2,3]\n",
    "list1.append(4)\n",
    "list1.pop(0)\n",
    "print(list1)"
   ]
  },
  {
   "cell_type": "code",
   "execution_count": 20,
   "id": "094abbe7-df15-4e6f-b53e-f34894bf519a",
   "metadata": {},
   "outputs": [
    {
     "name": "stdout",
     "output_type": "stream",
     "text": [
      "(1, 2, 3, [100, 5, 6])\n"
     ]
    }
   ],
   "source": [
    "t1 = (1,2,3,[4,5,6])\n",
    "#t1[0] = -1 # ERROR\n",
    "t1[3][0] = 100\n",
    "print(t1)\n"
   ]
  },
  {
   "cell_type": "code",
   "execution_count": 21,
   "id": "8782a1f7-4977-4096-9475-dc929fea2080",
   "metadata": {},
   "outputs": [
    {
     "name": "stdout",
     "output_type": "stream",
     "text": [
      "[1, 2, 3, 100]\n"
     ]
    }
   ],
   "source": [
    "l1 = [1,2,3, (6,7,8)]\n",
    "l1[3] = 100\n",
    "print(l1)"
   ]
  },
  {
   "cell_type": "code",
   "execution_count": 27,
   "id": "77d512a2-d3ef-401b-b5eb-dc4191338c95",
   "metadata": {},
   "outputs": [
    {
     "name": "stdout",
     "output_type": "stream",
     "text": [
      "{1, 2, 3}\n",
      "{1, 2}\n"
     ]
    }
   ],
   "source": [
    "s1 = {1,2,3,[1,2,3]}\n",
    "print(s1)\n",
    "s2 = s1.remove(3)\n",
    "print(s1)"
   ]
  },
  {
   "cell_type": "code",
   "execution_count": 28,
   "id": "abcfe03a-f8a4-42e7-afc4-d7e236d84768",
   "metadata": {},
   "outputs": [
    {
     "name": "stdout",
     "output_type": "stream",
     "text": [
      "{(1, 2, 3): 'numbers'}\n"
     ]
    }
   ],
   "source": [
    "d1 = {(1,2,3):\"numbers\"}\n",
    "print(d1)"
   ]
  },
  {
   "cell_type": "code",
   "execution_count": 31,
   "id": "ebe59210-8c74-4d8b-9974-20d628ca0bce",
   "metadata": {},
   "outputs": [
    {
     "name": "stdout",
     "output_type": "stream",
     "text": [
      "{'Age': 9, 'Std': 4}\n",
      "{'ram': {'Age': 9, 'Std': 4}, 'Krish': {}, 'bheem': {'Age': 10}}\n",
      "ram {'Age': 9, 'Std': 4}\n",
      "Krish {}\n",
      "bheem {'Age': 10}\n"
     ]
    }
   ],
   "source": [
    "d1 = {\"ram\": {\"Age\": 9, \"Std\": 4}, \"Krish\":{}}\n",
    "print(d1[\"ram\"])\n",
    "d1[\"bheem\"] = {\"Age\":10}\n",
    "\n",
    "print(d1)\n",
    "\n",
    "for key, value in d1.items():\n",
    "    print(key, value)"
   ]
  },
  {
   "cell_type": "code",
   "execution_count": 33,
   "id": "d12b84ae-8642-4118-be57-bb74fc5aa89d",
   "metadata": {},
   "outputs": [
    {
     "name": "stdout",
     "output_type": "stream",
     "text": [
      "3\n"
     ]
    }
   ],
   "source": [
    "\n",
    "\n",
    "def add(a,b):\n",
    "    return a+b\n",
    "\n",
    "def sub(a,b):\n",
    "    return a-b\n",
    "\n",
    "ops = {\"add\":add, \"sub\":sub}\n",
    "\n",
    "def do_op(a,b,op1):\n",
    "    if op1 == \"add\":\n",
    "        return ops[\"add\"](a,b)\n",
    "    else:\n",
    "        print(\"No operation\")\n",
    "\n",
    "print(do_op(1,2,\"add\"))\n"
   ]
  },
  {
   "cell_type": "code",
   "execution_count": 40,
   "id": "40896a9a-6cd7-43ae-8d9e-1dd163fbfd6d",
   "metadata": {},
   "outputs": [
    {
     "name": "stdout",
     "output_type": "stream",
     "text": [
      "136\n",
      "48\n",
      "0\n",
      "1\n",
      "2\n",
      "3\n",
      "4\n",
      "5\n",
      "6\n",
      "7\n",
      "8\n",
      "9\n"
     ]
    }
   ],
   "source": [
    "\n",
    "import sys\n",
    "\n",
    "l1 = list(range(10))\n",
    "r1 = range(10)\n",
    "print(sys.getsizeof(l1))\n",
    "print(sys.getsizeof(r1))\n",
    "\n",
    "\n",
    "\n"
   ]
  },
  {
   "cell_type": "code",
   "execution_count": 47,
   "id": "eac1638d-32d8-430e-adb7-e6f50ba4e1e5",
   "metadata": {},
   "outputs": [
    {
     "name": "stdout",
     "output_type": "stream",
     "text": [
      "0\n",
      "1\n",
      "2\n",
      "3\n",
      "4\n",
      "5\n",
      "6\n",
      "7\n",
      "8\n",
      "9\n"
     ]
    },
    {
     "ename": "StopIteration",
     "evalue": "",
     "output_type": "error",
     "traceback": [
      "\u001b[0;31m---------------------------------------------------------------------------\u001b[0m",
      "\u001b[0;31mStopIteration\u001b[0m                             Traceback (most recent call last)",
      "Cell \u001b[0;32mIn[47], line 17\u001b[0m\n\u001b[1;32m     15\u001b[0m \u001b[38;5;28mprint\u001b[39m(\u001b[38;5;28mnext\u001b[39m(obj1))\n\u001b[1;32m     16\u001b[0m \u001b[38;5;28mprint\u001b[39m(\u001b[38;5;28mnext\u001b[39m(obj1))\n\u001b[0;32m---> 17\u001b[0m \u001b[38;5;28mprint\u001b[39m(\u001b[38;5;28mnext\u001b[39m(obj1))\n",
      "\u001b[0;31mStopIteration\u001b[0m: "
     ]
    }
   ],
   "source": [
    "# Iterators\n",
    "def myrange(low, high):\n",
    "    for i in range(low, high):\n",
    "        yield i # return i, retains low, high, stack pointer\n",
    "\n",
    "obj1 = myrange(0,10) # Initializing iterator\n",
    "print(next(obj1))\n",
    "print(next(obj1))\n",
    "print(next(obj1))\n",
    "print(next(obj1))\n",
    "print(next(obj1))\n",
    "print(next(obj1))\n",
    "print(next(obj1))\n",
    "print(next(obj1))\n",
    "print(next(obj1))\n",
    "print(next(obj1))\n",
    "print(next(obj1)) # 11th time"
   ]
  },
  {
   "cell_type": "code",
   "execution_count": 54,
   "id": "1ed9fe44-44e3-43b2-b5e8-d7625f22ba31",
   "metadata": {},
   "outputs": [
    {
     "name": "stdout",
     "output_type": "stream",
     "text": [
      "0\n",
      "2\n"
     ]
    }
   ],
   "source": [
    "class myrange():\n",
    "    def __next__(self):\n",
    "        result = self.curr\n",
    "        self.curr += self.incr\n",
    "        return result\n",
    "        \n",
    "    def __init__(self, low, high, incr):\n",
    "        self.low = low\n",
    "        self.high = high\n",
    "        self.curr = low\n",
    "        self.incr = incr\n",
    "\n",
    "r1 = myrange(0,10,2)\n"
   ]
  },
  {
   "cell_type": "code",
   "execution_count": 55,
   "id": "f928ea1b-4560-44be-863f-43229f5f18f9",
   "metadata": {},
   "outputs": [
    {
     "name": "stdout",
     "output_type": "stream",
     "text": [
      "Help on range object:\n",
      "\n",
      "class range(object)\n",
      " |  range(stop) -> range object\n",
      " |  range(start, stop[, step]) -> range object\n",
      " |\n",
      " |  Return an object that produces a sequence of integers from start (inclusive)\n",
      " |  to stop (exclusive) by step.  range(i, j) produces i, i+1, i+2, ..., j-1.\n",
      " |  start defaults to 0, and stop is omitted!  range(4) produces 0, 1, 2, 3.\n",
      " |  These are exactly the valid indices for a list of 4 elements.\n",
      " |  When step is given, it specifies the increment (or decrement).\n",
      " |\n",
      " |  Methods defined here:\n",
      " |\n",
      " |  __bool__(self, /)\n",
      " |      True if self else False\n",
      " |\n",
      " |  __contains__(self, key, /)\n",
      " |      Return bool(key in self).\n",
      " |\n",
      " |  __eq__(self, value, /)\n",
      " |      Return self==value.\n",
      " |\n",
      " |  __ge__(self, value, /)\n",
      " |      Return self>=value.\n",
      " |\n",
      " |  __getattribute__(self, name, /)\n",
      " |      Return getattr(self, name).\n",
      " |\n",
      " |  __getitem__(self, key, /)\n",
      " |      Return self[key].\n",
      " |\n",
      " |  __gt__(self, value, /)\n",
      " |      Return self>value.\n",
      " |\n",
      " |  __hash__(self, /)\n",
      " |      Return hash(self).\n",
      " |\n",
      " |  __iter__(self, /)\n",
      " |      Implement iter(self).\n",
      " |\n",
      " |  __le__(self, value, /)\n",
      " |      Return self<=value.\n",
      " |\n",
      " |  __len__(self, /)\n",
      " |      Return len(self).\n",
      " |\n",
      " |  __lt__(self, value, /)\n",
      " |      Return self<value.\n",
      " |\n",
      " |  __ne__(self, value, /)\n",
      " |      Return self!=value.\n",
      " |\n",
      " |  __reduce__(...)\n",
      " |      Helper for pickle.\n",
      " |\n",
      " |  __repr__(self, /)\n",
      " |      Return repr(self).\n",
      " |\n",
      " |  __reversed__(...)\n",
      " |      Return a reverse iterator.\n",
      " |\n",
      " |  count(...)\n",
      " |      rangeobject.count(value) -> integer -- return number of occurrences of value\n",
      " |\n",
      " |  index(...)\n",
      " |      rangeobject.index(value) -> integer -- return index of value.\n",
      " |      Raise ValueError if the value is not present.\n",
      " |\n",
      " |  ----------------------------------------------------------------------\n",
      " |  Static methods defined here:\n",
      " |\n",
      " |  __new__(*args, **kwargs)\n",
      " |      Create and return a new object.  See help(type) for accurate signature.\n",
      " |\n",
      " |  ----------------------------------------------------------------------\n",
      " |  Data descriptors defined here:\n",
      " |\n",
      " |  start\n",
      " |\n",
      " |  step\n",
      " |\n",
      " |  stop\n",
      "\n",
      "None\n"
     ]
    }
   ],
   "source": [
    "r1 = range(100)\n",
    "print(help(r1))"
   ]
  },
  {
   "cell_type": "code",
   "execution_count": null,
   "id": "1ff76df7-01fe-43f0-a455-83a67684b1c0",
   "metadata": {},
   "outputs": [],
   "source": []
  }
 ],
 "metadata": {
  "kernelspec": {
   "display_name": "Python 3 (ipykernel)",
   "language": "python",
   "name": "python3"
  },
  "language_info": {
   "codemirror_mode": {
    "name": "ipython",
    "version": 3
   },
   "file_extension": ".py",
   "mimetype": "text/x-python",
   "name": "python",
   "nbconvert_exporter": "python",
   "pygments_lexer": "ipython3",
   "version": "3.12.7"
  }
 },
 "nbformat": 4,
 "nbformat_minor": 5
}
