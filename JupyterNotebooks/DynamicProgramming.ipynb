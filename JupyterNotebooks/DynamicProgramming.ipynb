{
 "cells": [
  {
   "cell_type": "markdown",
   "metadata": {},
   "source": [
    "# Dynamic Programming Tutorial\n",
    "\n",
    "This notebook covers Dynamic Programming (DP) basics (Bottom-Up vs. Top-Down, Memoization), key concepts (Knapsack, LCS, Matrix Chain Multiplication, Coin Change), and advanced problems (Stock Trading, Edit Distance, Palindromic Substrings). Examples are in Python, with ties to your `SmartTracker` project where applicable."
   ]
  },
  {
   "cell_type": "markdown",
   "metadata": {},
   "source": [
    "## 1. Basics: Bottom-Up vs. Top-Down, Memoization\n",
    "\n",
    "**Dynamic Programming**: Solves problems by breaking them into overlapping subproblems, storing results to avoid recomputation.\n",
    "\n",
    "- **Top-Down (Recursive + Memoization)**: Start with the main problem, recursively solve subproblems, and cache results.\n",
    "- **Bottom-Up (Iterative)**: Solve subproblems first, build up to the main problem using a table.\n",
    "- **Memoization**: Store results of expensive function calls in a cache (e.g., dictionary or array).\n",
    "\n",
    "**Example**: Fibonacci sequence (n-th number)."
   ]
  },
  {
   "cell_type": "code",
   "execution_count": 1,
   "metadata": {},
   "outputs": [
    {
     "name": "stdout",
     "output_type": "stream",
     "text": [
      "Fibonacci(10) Top-Down: 55\n",
      "Fibonacci(10) Bottom-Up: 55\n"
     ]
    }
   ],
   "source": [
    "# Top-Down with Memoization\n",
    "def fib_top_down(n, memo={}):\n",
    "    if n <= 1:\n",
    "        return n\n",
    "    if n not in memo:\n",
    "        memo[n] = fib_top_down(n-1, memo) + fib_top_down(n-2, memo)\n",
    "    return memo[n]\n",
    "\n",
    "# Bottom-Up\n",
    "def fib_bottom_up(n):\n",
    "    if n <= 1:\n",
    "        return n\n",
    "    dp = [0] * (n + 1)\n",
    "    dp[1] = 1\n",
    "    for i in range(2, n + 1):\n",
    "        dp[i] = dp[i-1] + dp[i-2]\n",
    "    return dp[n]\n",
    "\n",
    "print(f\"Fibonacci(10) Top-Down: {fib_top_down(10)}\")\n",
    "print(f\"Fibonacci(10) Bottom-Up: {fib_bottom_up(10)}\")"
   ]
  },
  {
   "cell_type": "markdown",
   "metadata": {},
   "source": [
    "## 2. Key Concepts\n",
    "\n",
    "### 2.1 Knapsack Variants\n",
    "\n",
    "**0/1 Knapsack**: Given weights and values, maximize value within a weight limit (each item can be picked once).\n",
    "\n",
    "**Unbounded Knapsack**: Items can be picked multiple times."
   ]
  },
  {
   "cell_type": "code",
   "execution_count": 2,
   "metadata": {},
   "outputs": [
    {
     "name": "stdout",
     "output_type": "stream",
     "text": [
      "0/1 Knapsack Max Value: 90\n",
      "Unbounded Knapsack Max Value: 100\n"
     ]
    }
   ],
   "source": [
    "# 0/1 Knapsack (Bottom-Up)\n",
    "def knapsack_01(values, weights, capacity):\n",
    "    n = len(values)\n",
    "    dp = [[0] * (capacity + 1) for _ in range(n + 1)]\n",
    "    for i in range(1, n + 1):\n",
    "        for w in range(capacity + 1):\n",
    "            if weights[i-1] <= w:\n",
    "                dp[i][w] = max(dp[i-1][w], dp[i-1][w - weights[i-1]] + values[i-1])\n",
    "            else:\n",
    "                dp[i][w] = dp[i-1][w]\n",
    "    return dp[n][capacity]\n",
    "\n",
    "# Unbounded Knapsack (Bottom-Up)\n",
    "def knapsack_unbounded(values, weights, capacity):\n",
    "    dp = [0] * (capacity + 1)\n",
    "    for w in range(capacity + 1):\n",
    "        for i in range(len(values)):\n",
    "            if weights[i] <= w:\n",
    "                dp[w] = max(dp[w], dp[w - weights[i]] + values[i])\n",
    "    return dp[capacity]\n",
    "\n",
    "values = [60, 100, 120]\n",
    "weights = [10, 20, 30]\n",
    "capacity = 50\n",
    "print(f\"0/1 Knapsack Max Value: {knapsack_01(values, weights, capacity)}\")\n",
    "print(f\"Unbounded Knapsack Max Value: {knapsack_unbounded(values, weights, capacity)}\")"
   ]
  },
  {
   "cell_type": "markdown",
   "metadata": {},
   "source": [
    "### 2.2 Longest Common Subsequence/Substring\n",
    "\n",
    "**LCS**: Find the longest sequence present in two strings (not necessarily contiguous).\n",
    "**LSS**: Find the longest contiguous substring."
   ]
  },
  {
   "cell_type": "code",
   "execution_count": 3,
   "metadata": {},
   "outputs": [
    {
     "name": "stdout",
     "output_type": "stream",
     "text": [
      "LCS Length: 4\n",
      "LSS: ABC\n"
     ]
    }
   ],
   "source": [
    "# Longest Common Subsequence (Bottom-Up)\n",
    "def lcs(str1, str2):\n",
    "    m, n = len(str1), len(str2)\n",
    "    dp = [[0] * (n + 1) for _ in range(m + 1)]\n",
    "    for i in range(1, m + 1):\n",
    "        for j in range(1, n + 1):\n",
    "            if str1[i-1] == str2[j-1]:\n",
    "                dp[i][j] = dp[i-1][j-1] + 1\n",
    "            else:\n",
    "                dp[i][j] = max(dp[i-1][j], dp[i][j-1])\n",
    "    return dp[m][n]\n",
    "\n",
    "# Longest Common Substring\n",
    "def lss(str1, str2):\n",
    "    m, n = len(str1), len(str2)\n",
    "    dp = [[0] * (n + 1) for _ in range(m + 1)]\n",
    "    max_len, end_pos = 0, 0\n",
    "    for i in range(1, m + 1):\n",
    "        for j in range(1, n + 1):\n",
    "            if str1[i-1] == str2[j-1]:\n",
    "                dp[i][j] = dp[i-1][j-1] + 1\n",
    "                if dp[i][j] > max_len:\n",
    "                    max_len = dp[i][j]\n",
    "                    end_pos = i\n",
    "    return str1[end_pos - max_len:end_pos]\n",
    "\n",
    "str1, str2 = \"ABCDGH\", \"AEDFHR\"\n",
    "print(f\"LCS Length: {lcs(str1, str2)}\")  # ADH\n",
    "print(f\"LSS: {lss(str1, str2)}\")  # ABC"
   ]
  },
  {
   "cell_type": "markdown",
   "metadata": {},
   "source": [
    "### 2.3 Matrix Chain Multiplication\n",
    "\n",
    "Find the minimum number of scalar multiplications to multiply a chain of matrices."
   ]
  },
  {
   "cell_type": "code",
   "execution_count": 4,
   "metadata": {},
   "outputs": [
    {
     "name": "stdout",
     "output_type": "stream",
     "text": [
      "Min Multiplications: 18000\n"
     ]
    }
   ],
   "source": [
    "def matrix_chain_multiplication(dimensions):\n",
    "    n = len(dimensions) - 1\n",
    "    dp = [[0] * n for _ in range(n)]\n",
    "    for length in range(2, n + 1):\n",
    "        for i in range(n - length + 1):\n",
    "            j = i + length - 1\n",
    "            dp[i][j] = float('inf')\n",
    "            for k in range(i, j):\n",
    "                cost = dp[i][k] + dp[k+1][j] + dimensions[i] * dimensions[k+1] * dimensions[j+1]\n",
    "                dp[i][j] = min(dp[i][j], cost)\n",
    "    return dp[0][n-1]\n",
    "\n",
    "dimensions = [10, 30, 5, 60]  # Matrices: 10x30, 30x5, 5x60\n",
    "print(f\"Min Multiplications: {matrix_chain_multiplication(dimensions)}\")"
   ]
  },
  {
   "cell_type": "markdown",
   "metadata": {},
   "source": [
    "### 2.4 Coin Change Problem\n",
    "\n",
    "Find the minimum number of coins to make a given amount."
   ]
  },
  {
   "cell_type": "code",
   "execution_count": 5,
   "metadata": {},
   "outputs": [
    {
     "name": "stdout",
     "output_type": "stream",
     "text": [
      "Min Coins: 3\n"
     ]
    }
   ],
   "source": [
    "def coin_change(coins, amount):\n",
    "    dp = [float('inf')] * (amount + 1)\n",
    "    dp[0] = 0\n",
    "    for i in range(1, amount + 1):\n",
    "        for coin in coins:\n",
    "            if coin <= i:\n",
    "                dp[i] = min(dp[i], dp[i - coin] + 1)\n",
    "    return dp[amount] if dp[amount] != float('inf') else -1\n",
    "\n",
    "coins = [1, 5, 10, 25]\n",
    "amount = 30\n",
    "print(f\"Min Coins: {coin_change(coins, amount)}\")"
   ]
  },
  {
   "cell_type": "markdown",
   "metadata": {},
   "source": [
    "## 3. Advanced Problems\n",
    "\n",
    "### 3.1 Maximum Profit in Stock Trading\n",
    "\n",
    "Maximize profit by buying and selling stocks (at most one transaction)."
   ]
  },
  {
   "cell_type": "code",
   "execution_count": 6,
   "metadata": {},
   "outputs": [
    {
     "name": "stdout",
     "output_type": "stream",
     "text": [
      "Max Profit: 5\n"
     ]
    }
   ],
   "source": [
    "def max_profit(prices):\n",
    "    min_price = float('inf')\n",
    "    max_profit = 0\n",
    "    for price in prices:\n",
    "        min_price = min(min_price, price)\n",
    "        max_profit = max(max_profit, price - min_price)\n",
    "    return max_profit\n",
    "\n",
    "prices = [7, 1, 5, 3, 6, 4]\n",
    "print(f\"Max Profit: {max_profit(prices)}\")"
   ]
  },
  {
   "cell_type": "markdown",
   "metadata": {},
   "source": [
    "### 3.2 Minimum Edit Distance\n",
    "\n",
    "Find the minimum operations (insert, delete, replace) to transform one string into another."
   ]
  },
  {
   "cell_type": "code",
   "execution_count": 7,
   "metadata": {},
   "outputs": [
    {
     "name": "stdout",
     "output_type": "stream",
     "text": [
      "Min Edit Distance: 3\n"
     ]
    }
   ],
   "source": [
    "def min_edit_distance(str1, str2):\n",
    "    m, n = len(str1), len(str2)\n",
    "    dp = [[0] * (n + 1) for _ in range(m + 1)]\n",
    "    for i in range(m + 1):\n",
    "        dp[i][0] = i\n",
    "    for j in range(n + 1):\n",
    "        dp[0][j] = j\n",
    "    for i in range(1, m + 1):\n",
    "        for j in range(1, n + 1):\n",
    "            if str1[i-1] == str2[j-1]:\n",
    "                dp[i][j] = dp[i-1][j-1]\n",
    "            else:\n",
    "                dp[i][j] = min(dp[i-1][j-1], dp[i-1][j], dp[i][j-1]) + 1\n",
    "    return dp[m][n]\n",
    "\n",
    "str1, str2 = \"horse\", \"ros\"\n",
    "print(f\"Min Edit Distance: {min_edit_distance(str1, str2)}\")"
   ]
  },
  {
   "cell_type": "markdown",
   "metadata": {},
   "source": [
    "### 3.3 Palindromic Substrings\n",
    "\n",
    "Count all palindromic substrings in a string."
   ]
  },
  {
   "cell_type": "code",
   "execution_count": 8,
   "metadata": {},
   "outputs": [
    {
     "name": "stdout",
     "output_type": "stream",
     "text": [
      "Palindromic Substrings: 7\n"
     ]
    }
   ],
   "source": [
    "def count_palindromic_substrings(s):\n",
    "    n = len(s)\n",
    "    dp = [[False] * n for _ in range(n)]\n",
    "    count = 0\n",
    "    # Single characters\n",
    "    for i in range(n):\n",
    "        dp[i][i] = True\n",
    "        count += 1\n",
    "    # Substrings of length 2\n",
    "    for i in range(n-1):\n",
    "        if s[i] == s[i+1]:\n",
    "            dp[i][i+1] = True\n",
    "            count += 1\n",
    "    # Longer substrings\n",
    "    for length in range(3, n + 1):\n",
    "        for i in range(n - length + 1):\n",
    "            j = i + length - 1\n",
    "            if s[i] == s[j] and dp[i+1][j-1]:\n",
    "                dp[i][j] = True\n",
    "                count += 1\n",
    "    return count\n",
    "\n",
    "s = \"aaa\"\n",
    "print(f\"Palindromic Substrings: {count_palindromic_substrings(s)}\")"
   ]
  },
  {
   "cell_type": "markdown",
   "metadata": {},
   "source": [
    "## Practical Example: SmartTracker Optimization\n",
    "\n",
    "Use DP in `SmartTracker` to optimize expense allocation (e.g., Knapsack for budgeting) or find patterns in transaction descriptions (e.g., LCS for matching)."
   ]
  },
  {
   "cell_type": "code",
   "execution_count": 9,
   "metadata": {},
   "outputs": [
    {
     "name": "stdout",
     "output_type": "stream",
     "text": [
      "Max Budget Value: 250\n"
     ]
    }
   ],
   "source": [
    "# Knapsack for budgeting in SmartTracker\n",
    "def budget_allocation(values, costs, budget):\n",
    "    n = len(values)\n",
    "    dp = [[0] * (budget + 1) for _ in range(n + 1)]\n",
    "    for i in range(1, n + 1):\n",
    "        for b in range(budget + 1):\n",
    "            if costs[i-1] <= b:\n",
    "                dp[i][b] = max(dp[i-1][b], dp[i-1][b - costs[i-1]] + values[i-1])\n",
    "            else:\n",
    "                dp[i][b] = dp[i-1][b]\n",
    "    return dp[n][budget]\n",
    "\n",
    "# Example: Allocate budget to maximize 'value' of expenses\n",
    "expenses = [{\"desc\": \"Coffee\", \"value\": 50, \"cost\": 5}, {\"desc\": \"Laptop\", \"value\": 200, \"cost\": 1000}]\n",
    "values = [exp['value'] for exp in expenses]\n",
    "costs = [exp['cost'] for exp in expenses]\n",
    "budget = 500\n",
    "print(f\"Max Budget Value: {budget_allocation(values, costs, budget)}\")"
   ]
  },
  {
   "cell_type": "markdown",
   "metadata": {},
   "source": [
    "## Next Steps\n",
    "\n",
    "- **Practice**: Modify the Knapsack example to track selected items or try top-down memoization.\n",
    "- **Explore**: Apply LCS to match transaction descriptions in `SmartTracker`.\n",
    "- **Apply**: Integrate DP into your Django/PostgreSQL app for optimization tasks (e.g., budgeting, pattern matching)."
   ]
  }
 ],
 "metadata": {
  "kernelspec": {
   "display_name": "Python 3 (ipykernel)",
   "language": "python",
   "name": "python3"
  },
  "language_info": {
   "codemirror_mode": {
    "name": "ipython",
    "version": 3
   },
   "file_extension": ".py",
   "mimetype": "text/x-python",
   "name": "python",
   "nbconvert_exporter": "python",
   "pygments_lexer": "ipython3",
   "version": "3.12.7"
  }
 },
 "nbformat": 4,
 "nbformat_minor": 4
}
