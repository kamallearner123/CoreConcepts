{
 "cells": [
  {
   "cell_type": "markdown",
   "id": "4098b7b6-02c1-4709-a1b6-0ea0bff46320",
   "metadata": {},
   "source": [
    "# Leet code 15 patterns\n",
    "\n",
    "## Prefix Sum\n",
    "303. Range Sum Query - Immutable\n",
    "525. Contiguous Array\n",
    "560. Subarray Sum Equals K\n",
    "\n",
    "## Two Pointers\n",
    "167. Two Sum II - Input Array is Sorted\n",
    "15. 3 Sum\n",
    "11. Container with most water\n",
    "\n",
    "## Sliding Window\n",
    "643. Maximum Average Subarray I\n",
    "3. Longest Substring without Repeating Characters\n",
    "76. Minimum Window Substring\n",
    "\n",
    "## Fast and Slow Pointers\n",
    "141. Linked List Cycle\n",
    "202. Happy Number\n",
    "287. Find the Duplicate Number\n",
    "\n",
    "## Linked List in-place reversal\n",
    "206. Reverse Linked List\n",
    "92. Reverse Linked List II\n",
    "24. Swap Nodes in Pairs\n",
    "\n",
    "## Monotonic Stack\n",
    "496. Next Greater Element I\n",
    "739. Daily Temperatures\n",
    "84. Largest Rectangle in Histogram\n",
    "\n",
    "## Top K. Elements OR min/max Heap\n",
    "215. Kth Largest element in an array\n",
    "347. Top K Frequent Elements\n",
    "373. Find K Pairs with Smallest Sums\n",
    "\n",
    "## Overlapping Intervals\n",
    "56. Merge Intervals\n",
    "57. Insert Interval\n",
    "435. Non-overlapping intervals\n",
    "\n",
    "## Modified Binary Search\n",
    "33. Search in Rotated Sorted Array\n",
    "153. Find Minimum in Rotated Sorted Array\n",
    "240. Search a 2D Matrix II\n",
    "\n",
    "## Binary Tree Traversal\n",
    "257. Binary Tree Paths\n",
    "230. Kth Smallest Element in a BST\n",
    "124. Binary Tree Maximum Path Sum\n",
    "107. Binary Tree Level Order Traversal II\n",
    "\n",
    "## Depth First Search\n",
    "133. Clone Graph\n",
    "113. Path Sum II\n",
    "210. Course Schedule II\n",
    "\n",
    "## Breadth First Search\n",
    "102. Binary Tree Level Order Traversal\n",
    "994. Rotting Oranges\n",
    "127. Word Ladder\n",
    "\n",
    "## Matrix Traversal\n",
    "733. Flood Fill\n",
    "200. Number of Islands\n",
    "130. Surrounded Regions\n",
    "\n",
    "## Backtracking\n",
    "46. Permutations\n",
    "78. Subsets\n",
    "51. N-Queens\n",
    "\n",
    "## Dynamic Programming\n",
    "70. Climbing Stairs\n",
    "322. Coin Change\n",
    "300. Longest Increasing Subsequence\n",
    "416. Partition Equal Subset Sum\n",
    "312. Burst Balloons\n",
    "1143. Longest Common Subsequence\n",
    "\n",
    "Rreferences: Link: https://www.youtube.com/watch?v=DjYZk8nrXVY\n"
   ]
  },
  {
   "cell_type": "markdown",
   "id": "b6a2e3a4-2ba3-4505-b2e8-e7fd0a510dd6",
   "metadata": {},
   "source": [
    "# 1. Prefix Sum\n",
    "303. Range Sum Query - Immutable\n",
    "525. Contiguous Array\n",
    "560. Subarray Sum Equals K"
   ]
  },
  {
   "cell_type": "code",
   "execution_count": null,
   "id": "90bbcddd-8529-4304-9da1-87694ae0c6e8",
   "metadata": {},
   "outputs": [],
   "source": [
    "def SubarraySumEqualsK(nums, k):\n",
    "    pass\n",
    "\n",
    "print(SubarraySumEqualsK([1,2,3,4,5,6,7,8,9,-2], 4)"
   ]
  },
  {
   "cell_type": "code",
   "execution_count": 8,
   "id": "868c1559-ad62-4bd8-b692-e3a599f193de",
   "metadata": {},
   "outputs": [
    {
     "name": "stdout",
     "output_type": "stream",
     "text": [
      "0\n",
      "[1, 2, 3]\n"
     ]
    }
   ],
   "source": []
  },
  {
   "cell_type": "code",
   "execution_count": null,
   "id": "b6913b09-ba45-4b2c-a1ef-a1107ec6c99f",
   "metadata": {},
   "outputs": [],
   "source": [
    "\n",
    "    "
   ]
  }
 ],
 "metadata": {
  "kernelspec": {
   "display_name": "Python3 (DeepCode)",
   "language": "python",
   "name": "deepcode"
  },
  "language_info": {
   "codemirror_mode": {
    "name": "ipython",
    "version": 3
   },
   "file_extension": ".py",
   "mimetype": "text/x-python",
   "name": "python",
   "nbconvert_exporter": "python",
   "pygments_lexer": "ipython3",
   "version": "3.13.2"
  }
 },
 "nbformat": 4,
 "nbformat_minor": 5
}
