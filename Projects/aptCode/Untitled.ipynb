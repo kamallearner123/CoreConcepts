{
 "cells": [
  {
   "cell_type": "code",
   "execution_count": null,
   "id": "026302fb-4aa9-4ff8-bd64-e65de5f9f752",
   "metadata": {},
   "outputs": [],
   "source": []
  },
  {
   "cell_type": "markdown",
   "id": "92082fb4-b3bc-4ed0-aada-965167d83b3b",
   "metadata": {},
   "source": [
    "# 1. Valid Parentheses\n",
    "Given a string s containing just the characters '(', ')', '{', '}', '[' and ']', determine if the input string is valid.\n",
    "\n",
    "An input string is valid if:\n",
    "\n",
    "1. Open brackets must be closed by the same type of brackets.\n",
    "2. Open brackets must be closed in the correct order.\n",
    "3. Every close bracket has a corresponding open bracket of the same type.\n",
    " \n",
    "\n",
    "## Example 1:\n",
    "\n",
    "Input: s = \"()\"\n",
    "\n",
    "Output: true\n",
    "\n",
    "## Example 2:\n",
    "\n",
    "Input: s = \"()[]{}\"\n",
    "\n",
    "Output: true\n",
    "\n",
    "\n",
    "## Example 3:\n",
    "\n",
    "Input: s = \"(]\"\n",
    "\n",
    "Output: false\n",
    "\n",
    "\n",
    "## Example 4:\n",
    "\n",
    "Input: s = \"([])\"\n",
    "\n",
    "Output: true\n",
    "\n",
    " \n",
    "\n",
    "## Constraints:\n",
    "\n",
    "1 <= s.length <= 104\n",
    "s consists of parentheses only '()[]{}'."
   ]
  },
  {
   "cell_type": "code",
   "execution_count": 27,
   "id": "57e2ca54-2fcd-4de9-ad87-9d555eecf53d",
   "metadata": {},
   "outputs": [
    {
     "name": "stdout",
     "output_type": "stream",
     "text": [
      "[\n",
      "]\n",
      "True\n"
     ]
    }
   ],
   "source": [
    "class Solution(object):\n",
    "    def isValid(self, s):\n",
    "        if len(s)%2 != 0:\n",
    "            retu\n",
    "        d1 = { \"}\":\"{\", \")\":\"(\", \"]\":\"[\"}\n",
    "\n",
    "        q1 = []\n",
    "        for sym in s:\n",
    "            print(sym)\n",
    "            if sym in d1.values():\n",
    "                q1.append(sym)\n",
    "            else:\n",
    "                if (len(q1) == 0) or (d1[sym] != q1.pop()):\n",
    "                    return False\n",
    "        if (len(q1) == 0):\n",
    "            return True\n",
    "        else:\n",
    "            return False\n",
    "        \n",
    "sol = Solution()\n",
    "print(sol.isValid(\"[]\"))\n",
    "\n"
   ]
  },
  {
   "cell_type": "code",
   "execution_count": 26,
   "id": "ee5ef4bf-70fc-45e7-9841-9c7dcec7413a",
   "metadata": {},
   "outputs": [],
   "source": [
    "open_syms = list(\"{[)\")\n"
   ]
  },
  {
   "cell_type": "code",
   "execution_count": null,
   "id": "bace60cc-b36d-4405-9b3b-f46b13b59251",
   "metadata": {},
   "outputs": [],
   "source": []
  }
 ],
 "metadata": {
  "kernelspec": {
   "display_name": "Python 3 (ipykernel)",
   "language": "python",
   "name": "python3"
  },
  "language_info": {
   "codemirror_mode": {
    "name": "ipython",
    "version": 3
   },
   "file_extension": ".py",
   "mimetype": "text/x-python",
   "name": "python",
   "nbconvert_exporter": "python",
   "pygments_lexer": "ipython3",
   "version": "3.12.7"
  }
 },
 "nbformat": 4,
 "nbformat_minor": 5
}
