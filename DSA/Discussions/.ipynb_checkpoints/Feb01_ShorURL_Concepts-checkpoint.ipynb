{
 "cells": [
  {
   "cell_type": "code",
   "execution_count": null,
   "id": "4cbf81e0-b872-4d35-923e-8c096d2f2a5e",
   "metadata": {},
   "outputs": [],
   "source": [
    "# Primitive data types\n",
    "a = 10 # int\n",
    "b = 1.5 # float\n"
   ]
  },
  {
   "cell_type": "code",
   "execution_count": 3,
   "id": "d1a8b2f0-be11-4c88-8e86-4376a51140e3",
   "metadata": {},
   "outputs": [
    {
     "name": "stdout",
     "output_type": "stream",
     "text": [
      "[1, 2, 3, 10]\n",
      "[]\n"
     ]
    }
   ],
   "source": [
    "# Non - primitive data types\n",
    "l1 = [1,2,3]\n",
    "l1.append(10)\n",
    "print(l1)\n",
    "\n",
    "l1.remove(3)\n",
    "l1.clear()\n",
    "print(l1)"
   ]
  },
  {
   "cell_type": "code",
   "execution_count": null,
   "id": "341d1a98-5710-4c59-a647-9295773f7f5a",
   "metadata": {},
   "outputs": [],
   "source": []
  }
 ],
 "metadata": {
  "kernelspec": {
   "display_name": "Python 3 (ipykernel)",
   "language": "python",
   "name": "python3"
  },
  "language_info": {
   "codemirror_mode": {
    "name": "ipython",
    "version": 3
   },
   "file_extension": ".py",
   "mimetype": "text/x-python",
   "name": "python",
   "nbconvert_exporter": "python",
   "pygments_lexer": "ipython3",
   "version": "3.12.7"
  }
 },
 "nbformat": 4,
 "nbformat_minor": 5
}
